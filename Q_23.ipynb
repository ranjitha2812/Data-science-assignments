{
 "cells": [
  {
   "cell_type": "code",
   "execution_count": 1,
   "id": "8630a8e9",
   "metadata": {},
   "outputs": [],
   "source": [
    "import pandas as pd\n",
    "import scipy as py\n",
    "from scipy import stats"
   ]
  },
  {
   "cell_type": "code",
   "execution_count": 2,
   "id": "c43af1c7",
   "metadata": {},
   "outputs": [
    {
     "name": "stdout",
     "output_type": "stream",
     "text": [
      "t Score of 95%: -1.7108820799094282\n",
      "t Score of 96%: -1.8280511719596344\n",
      "t Score of 99%: -2.4921594731575762\n"
     ]
    }
   ],
   "source": [
    "print('t Score of 95%:',stats.t.ppf(0.05,25-1))\n",
    "\n",
    "print('t Score of 96%:',stats.t.ppf(0.04,25-1))\n",
    "\n",
    "print('t Score of 99%:',stats.t.ppf(0.01,25-1))"
   ]
  },
  {
   "cell_type": "code",
   "execution_count": null,
   "id": "557f74b3",
   "metadata": {},
   "outputs": [],
   "source": []
  }
 ],
 "metadata": {
  "kernelspec": {
   "display_name": "Python 3 (ipykernel)",
   "language": "python",
   "name": "python3"
  },
  "language_info": {
   "codemirror_mode": {
    "name": "ipython",
    "version": 3
   },
   "file_extension": ".py",
   "mimetype": "text/x-python",
   "name": "python",
   "nbconvert_exporter": "python",
   "pygments_lexer": "ipython3",
   "version": "3.9.7"
  }
 },
 "nbformat": 4,
 "nbformat_minor": 5
}
