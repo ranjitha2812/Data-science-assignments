{
 "cells": [
  {
   "cell_type": "code",
   "execution_count": 2,
   "id": "64a59266",
   "metadata": {},
   "outputs": [],
   "source": [
    "import pandas as pd\n",
    "import scipy as py"
   ]
  },
  {
   "cell_type": "code",
   "execution_count": 3,
   "id": "f98572b9",
   "metadata": {},
   "outputs": [],
   "source": [
    "from scipy import stats"
   ]
  },
  {
   "cell_type": "code",
   "execution_count": 4,
   "id": "ef651495",
   "metadata": {},
   "outputs": [
    {
     "name": "stdout",
     "output_type": "stream",
     "text": [
      "z Score of 90%: 1.2815515655446004\n",
      "z Score of 94%: 1.5547735945968535\n",
      "z Score of 60%: 0.2533471031357997\n"
     ]
    }
   ],
   "source": [
    "print('z Score of 90%:',stats.norm.ppf(0.90))\n",
    "print('z Score of 94%:',stats.norm.ppf(0.94))\n",
    "print('z Score of 60%:',stats.norm.ppf(0.60))"
   ]
  },
  {
   "cell_type": "code",
   "execution_count": null,
   "id": "173d2a9f",
   "metadata": {},
   "outputs": [],
   "source": []
  }
 ],
 "metadata": {
  "kernelspec": {
   "display_name": "Python 3 (ipykernel)",
   "language": "python",
   "name": "python3"
  },
  "language_info": {
   "codemirror_mode": {
    "name": "ipython",
    "version": 3
   },
   "file_extension": ".py",
   "mimetype": "text/x-python",
   "name": "python",
   "nbconvert_exporter": "python",
   "pygments_lexer": "ipython3",
   "version": "3.9.7"
  }
 },
 "nbformat": 4,
 "nbformat_minor": 5
}
